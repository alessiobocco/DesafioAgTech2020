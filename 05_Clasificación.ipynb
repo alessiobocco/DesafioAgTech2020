{
 "cells": [
  {
   "cell_type": "code",
   "execution_count": 43,
   "metadata": {
    "collapsed": false,
    "jupyter": {
     "outputs_hidden": false
    }
   },
   "outputs": [],
   "source": [
    "#Manejo de datos\n",
    "import pandas as pd\n",
    "import numpy as np\n",
    "\n",
    "#Graficos\n",
    "import matplotlib.pyplot as plt\n",
    "import seaborn as sns\n",
    "\n",
    "#Preprocesado, metricas y modelos\n",
    "from sklearn.preprocessing import StandardScaler\n",
    "from sklearn.model_selection import train_test_split, cross_val_score, GridSearchCV\n",
    "from imblearn.pipeline import Pipeline\n",
    "from sklearn.ensemble import RandomForestClassifier\n",
    "from sklearn.metrics import classification_report, roc_auc_score, multilabel_confusion_matrix\n",
    "from sklearn.metrics import balanced_accuracy_score, accuracy_score\n",
    "from imblearn.over_sampling import SMOTE\n",
    "from sklearn import preprocessing\n",
    "from sklearn.compose import ColumnTransformer\n",
    "from sklearn.compose import make_column_selector as selector\n",
    "from sklearn.impute import SimpleImputer\n",
    "from sklearn.preprocessing import OneHotEncoder\n",
    "from sklearn.pipeline import make_pipeline\n",
    "from sklearn.preprocessing import OrdinalEncoder"
   ]
  },
  {
   "cell_type": "markdown",
   "metadata": {},
   "source": [
    "\n",
    "# Clasificación de cultivos\n"
   ]
  },
  {
   "cell_type": "markdown",
   "metadata": {},
   "source": []
  },
  {
   "cell_type": "code",
   "execution_count": 26,
   "metadata": {},
   "outputs": [],
   "source": [
    "original_df = pd.read_csv('/Users/alessiobocco/Documents/Data_Science/Data_Challenges/DesafioAgTech2020/dataset/dataset_satelite_resumen_anual_estacional.csv') "
   ]
  },
  {
   "cell_type": "code",
   "execution_count": 27,
   "metadata": {},
   "outputs": [
    {
     "data": {
      "text/plain": [
       "(24058, 61)"
      ]
     },
     "execution_count": 27,
     "metadata": {},
     "output_type": "execute_result"
    }
   ],
   "source": [
    "original_df.shape"
   ]
  },
  {
   "cell_type": "code",
   "execution_count": 28,
   "metadata": {},
   "outputs": [
    {
     "data": {
      "text/plain": [
       "(24058, 61)"
      ]
     },
     "execution_count": 28,
     "metadata": {},
     "output_type": "execute_result"
    }
   ],
   "source": [
    "#pd.get_dummies(original_df, columns=[\"Campania\", \"Dataset\"]).head()\n",
    "#original_df = pd.get_dummies(original_df, columns=[\"Campania\"])\n",
    "\n",
    "original_df.shape"
   ]
  },
  {
   "cell_type": "markdown",
   "metadata": {},
   "source": [
    "Se eliminan las variables innecesarias"
   ]
  },
  {
   "cell_type": "code",
   "execution_count": 29,
   "metadata": {},
   "outputs": [],
   "source": [
    "train = original_df[original_df.train == True].copy()\n",
    "train = train.drop([ 'train', 'GlobalId', 'Id', 'Cultivo', 'Dataset', 'Tipo'], axis=1)\n",
    "train = train.dropna()\n",
    "train = train.reset_index(drop=True)"
   ]
  },
  {
   "cell_type": "code",
   "execution_count": 30,
   "metadata": {},
   "outputs": [
    {
     "data": {
      "text/html": [
       "<div>\n",
       "<style scoped>\n",
       "    .dataframe tbody tr th:only-of-type {\n",
       "        vertical-align: middle;\n",
       "    }\n",
       "\n",
       "    .dataframe tbody tr th {\n",
       "        vertical-align: top;\n",
       "    }\n",
       "\n",
       "    .dataframe thead th {\n",
       "        text-align: right;\n",
       "    }\n",
       "</style>\n",
       "<table border=\"1\" class=\"dataframe\">\n",
       "  <thead>\n",
       "    <tr style=\"text-align: right;\">\n",
       "      <th></th>\n",
       "      <th>Elevacion</th>\n",
       "      <th>Campania</th>\n",
       "      <th>CultivoId</th>\n",
       "      <th>GNDVI_verano_sd</th>\n",
       "      <th>GNDVI_verano_median</th>\n",
       "      <th>GNDVI_primavera_sd</th>\n",
       "      <th>GNDVI_primavera_median</th>\n",
       "      <th>GNDVI_anual_sd</th>\n",
       "      <th>GNDVI_anual_max</th>\n",
       "      <th>GNDVI_anual_min</th>\n",
       "      <th>...</th>\n",
       "      <th>BSI_primavera_median</th>\n",
       "      <th>BSI_anual_sd</th>\n",
       "      <th>BSI_anual_max</th>\n",
       "      <th>BSI_anual_min</th>\n",
       "      <th>BSI_anual_median</th>\n",
       "      <th>BSI_anual_max_ind</th>\n",
       "      <th>BSI_otonio_sd</th>\n",
       "      <th>BSI_otonio_median</th>\n",
       "      <th>BSI_invierno_sd</th>\n",
       "      <th>BSI_invierno_median</th>\n",
       "    </tr>\n",
       "  </thead>\n",
       "  <tbody>\n",
       "    <tr>\n",
       "      <th>0</th>\n",
       "      <td>104.111862</td>\n",
       "      <td>2018</td>\n",
       "      <td>1.0</td>\n",
       "      <td>0.263033</td>\n",
       "      <td>0.304989</td>\n",
       "      <td>0.154999</td>\n",
       "      <td>0.521685</td>\n",
       "      <td>0.199437</td>\n",
       "      <td>0.747500</td>\n",
       "      <td>0.191179</td>\n",
       "      <td>...</td>\n",
       "      <td>-0.980203</td>\n",
       "      <td>0.667579</td>\n",
       "      <td>0.206213</td>\n",
       "      <td>-1.609584</td>\n",
       "      <td>-0.372989</td>\n",
       "      <td>6</td>\n",
       "      <td>0.774087</td>\n",
       "      <td>-0.345889</td>\n",
       "      <td>0.191398</td>\n",
       "      <td>-0.315465</td>\n",
       "    </tr>\n",
       "    <tr>\n",
       "      <th>1</th>\n",
       "      <td>105.698082</td>\n",
       "      <td>2018</td>\n",
       "      <td>3.0</td>\n",
       "      <td>0.089612</td>\n",
       "      <td>0.678897</td>\n",
       "      <td>0.217821</td>\n",
       "      <td>0.248773</td>\n",
       "      <td>0.181309</td>\n",
       "      <td>0.684802</td>\n",
       "      <td>0.211679</td>\n",
       "      <td>...</td>\n",
       "      <td>0.134498</td>\n",
       "      <td>0.723366</td>\n",
       "      <td>0.258177</td>\n",
       "      <td>-1.756245</td>\n",
       "      <td>-0.184848</td>\n",
       "      <td>10</td>\n",
       "      <td>0.262168</td>\n",
       "      <td>-0.143351</td>\n",
       "      <td>0.141708</td>\n",
       "      <td>-0.007481</td>\n",
       "    </tr>\n",
       "    <tr>\n",
       "      <th>2</th>\n",
       "      <td>104.233162</td>\n",
       "      <td>2018</td>\n",
       "      <td>10.0</td>\n",
       "      <td>0.055191</td>\n",
       "      <td>0.304828</td>\n",
       "      <td>0.105040</td>\n",
       "      <td>0.295463</td>\n",
       "      <td>0.083535</td>\n",
       "      <td>0.387024</td>\n",
       "      <td>0.118949</td>\n",
       "      <td>...</td>\n",
       "      <td>-0.516452</td>\n",
       "      <td>0.284998</td>\n",
       "      <td>-0.118169</td>\n",
       "      <td>-1.252055</td>\n",
       "      <td>-0.577229</td>\n",
       "      <td>6</td>\n",
       "      <td>0.100714</td>\n",
       "      <td>-0.613482</td>\n",
       "      <td>0.327410</td>\n",
       "      <td>-1.020541</td>\n",
       "    </tr>\n",
       "    <tr>\n",
       "      <th>3</th>\n",
       "      <td>103.859932</td>\n",
       "      <td>2018</td>\n",
       "      <td>3.0</td>\n",
       "      <td>0.209129</td>\n",
       "      <td>0.344033</td>\n",
       "      <td>0.017482</td>\n",
       "      <td>0.268392</td>\n",
       "      <td>0.157356</td>\n",
       "      <td>0.677169</td>\n",
       "      <td>0.185515</td>\n",
       "      <td>...</td>\n",
       "      <td>0.002223</td>\n",
       "      <td>0.627408</td>\n",
       "      <td>0.125648</td>\n",
       "      <td>-1.811209</td>\n",
       "      <td>-0.124183</td>\n",
       "      <td>6</td>\n",
       "      <td>0.483511</td>\n",
       "      <td>-0.842071</td>\n",
       "      <td>0.064306</td>\n",
       "      <td>-0.124183</td>\n",
       "    </tr>\n",
       "    <tr>\n",
       "      <th>4</th>\n",
       "      <td>98.532104</td>\n",
       "      <td>2018</td>\n",
       "      <td>3.0</td>\n",
       "      <td>0.095629</td>\n",
       "      <td>0.457569</td>\n",
       "      <td>0.116310</td>\n",
       "      <td>0.417054</td>\n",
       "      <td>0.131609</td>\n",
       "      <td>0.551861</td>\n",
       "      <td>0.093768</td>\n",
       "      <td>...</td>\n",
       "      <td>-0.868556</td>\n",
       "      <td>0.381736</td>\n",
       "      <td>-0.038672</td>\n",
       "      <td>-1.045642</td>\n",
       "      <td>-0.389632</td>\n",
       "      <td>10</td>\n",
       "      <td>0.555443</td>\n",
       "      <td>-0.093482</td>\n",
       "      <td>0.131460</td>\n",
       "      <td>-0.258714</td>\n",
       "    </tr>\n",
       "  </tbody>\n",
       "</table>\n",
       "<p>5 rows × 55 columns</p>\n",
       "</div>"
      ],
      "text/plain": [
       "    Elevacion  Campania  CultivoId  GNDVI_verano_sd  GNDVI_verano_median  \\\n",
       "0  104.111862      2018        1.0         0.263033             0.304989   \n",
       "1  105.698082      2018        3.0         0.089612             0.678897   \n",
       "2  104.233162      2018       10.0         0.055191             0.304828   \n",
       "3  103.859932      2018        3.0         0.209129             0.344033   \n",
       "4   98.532104      2018        3.0         0.095629             0.457569   \n",
       "\n",
       "   GNDVI_primavera_sd  GNDVI_primavera_median  GNDVI_anual_sd  \\\n",
       "0            0.154999                0.521685        0.199437   \n",
       "1            0.217821                0.248773        0.181309   \n",
       "2            0.105040                0.295463        0.083535   \n",
       "3            0.017482                0.268392        0.157356   \n",
       "4            0.116310                0.417054        0.131609   \n",
       "\n",
       "   GNDVI_anual_max  GNDVI_anual_min  ...  BSI_primavera_median  BSI_anual_sd  \\\n",
       "0         0.747500         0.191179  ...             -0.980203      0.667579   \n",
       "1         0.684802         0.211679  ...              0.134498      0.723366   \n",
       "2         0.387024         0.118949  ...             -0.516452      0.284998   \n",
       "3         0.677169         0.185515  ...              0.002223      0.627408   \n",
       "4         0.551861         0.093768  ...             -0.868556      0.381736   \n",
       "\n",
       "   BSI_anual_max  BSI_anual_min  BSI_anual_median  BSI_anual_max_ind  \\\n",
       "0       0.206213      -1.609584         -0.372989                  6   \n",
       "1       0.258177      -1.756245         -0.184848                 10   \n",
       "2      -0.118169      -1.252055         -0.577229                  6   \n",
       "3       0.125648      -1.811209         -0.124183                  6   \n",
       "4      -0.038672      -1.045642         -0.389632                 10   \n",
       "\n",
       "   BSI_otonio_sd  BSI_otonio_median  BSI_invierno_sd  BSI_invierno_median  \n",
       "0       0.774087          -0.345889         0.191398            -0.315465  \n",
       "1       0.262168          -0.143351         0.141708            -0.007481  \n",
       "2       0.100714          -0.613482         0.327410            -1.020541  \n",
       "3       0.483511          -0.842071         0.064306            -0.124183  \n",
       "4       0.555443          -0.093482         0.131460            -0.258714  \n",
       "\n",
       "[5 rows x 55 columns]"
      ]
     },
     "execution_count": 30,
     "metadata": {},
     "output_type": "execute_result"
    }
   ],
   "source": [
    "train.head()"
   ]
  },
  {
   "cell_type": "code",
   "execution_count": 31,
   "metadata": {},
   "outputs": [
    {
     "data": {
      "text/html": [
       "<div>\n",
       "<style scoped>\n",
       "    .dataframe tbody tr th:only-of-type {\n",
       "        vertical-align: middle;\n",
       "    }\n",
       "\n",
       "    .dataframe tbody tr th {\n",
       "        vertical-align: top;\n",
       "    }\n",
       "\n",
       "    .dataframe thead th {\n",
       "        text-align: right;\n",
       "    }\n",
       "</style>\n",
       "<table border=\"1\" class=\"dataframe\">\n",
       "  <thead>\n",
       "    <tr style=\"text-align: right;\">\n",
       "      <th></th>\n",
       "      <th>Elevacion</th>\n",
       "      <th>Campania</th>\n",
       "      <th>GNDVI_verano_sd</th>\n",
       "      <th>GNDVI_verano_median</th>\n",
       "      <th>GNDVI_primavera_sd</th>\n",
       "      <th>GNDVI_primavera_median</th>\n",
       "      <th>GNDVI_anual_sd</th>\n",
       "      <th>GNDVI_anual_max</th>\n",
       "      <th>GNDVI_anual_min</th>\n",
       "      <th>GNDVI_anual_median</th>\n",
       "      <th>...</th>\n",
       "      <th>BSI_primavera_median</th>\n",
       "      <th>BSI_anual_sd</th>\n",
       "      <th>BSI_anual_max</th>\n",
       "      <th>BSI_anual_min</th>\n",
       "      <th>BSI_anual_median</th>\n",
       "      <th>BSI_anual_max_ind</th>\n",
       "      <th>BSI_otonio_sd</th>\n",
       "      <th>BSI_otonio_median</th>\n",
       "      <th>BSI_invierno_sd</th>\n",
       "      <th>BSI_invierno_median</th>\n",
       "    </tr>\n",
       "  </thead>\n",
       "  <tbody>\n",
       "    <tr>\n",
       "      <th>850</th>\n",
       "      <td>104.111862</td>\n",
       "      <td>2018</td>\n",
       "      <td>0.175349</td>\n",
       "      <td>0.674135</td>\n",
       "      <td>0.210587</td>\n",
       "      <td>0.247672</td>\n",
       "      <td>0.177647</td>\n",
       "      <td>0.683647</td>\n",
       "      <td>0.220515</td>\n",
       "      <td>0.333781</td>\n",
       "      <td>...</td>\n",
       "      <td>0.056273</td>\n",
       "      <td>0.667406</td>\n",
       "      <td>0.233312</td>\n",
       "      <td>-1.710840</td>\n",
       "      <td>-0.167851</td>\n",
       "      <td>10</td>\n",
       "      <td>0.232372</td>\n",
       "      <td>-0.149071</td>\n",
       "      <td>0.103916</td>\n",
       "      <td>-0.060317</td>\n",
       "    </tr>\n",
       "    <tr>\n",
       "      <th>851</th>\n",
       "      <td>105.698082</td>\n",
       "      <td>2018</td>\n",
       "      <td>0.090484</td>\n",
       "      <td>0.673137</td>\n",
       "      <td>0.176979</td>\n",
       "      <td>0.246753</td>\n",
       "      <td>0.184235</td>\n",
       "      <td>0.686376</td>\n",
       "      <td>0.212813</td>\n",
       "      <td>0.254225</td>\n",
       "      <td>...</td>\n",
       "      <td>0.157874</td>\n",
       "      <td>0.717319</td>\n",
       "      <td>0.212907</td>\n",
       "      <td>-1.856273</td>\n",
       "      <td>0.049041</td>\n",
       "      <td>10</td>\n",
       "      <td>0.161911</td>\n",
       "      <td>0.145057</td>\n",
       "      <td>0.096408</td>\n",
       "      <td>0.049041</td>\n",
       "    </tr>\n",
       "    <tr>\n",
       "      <th>852</th>\n",
       "      <td>104.233162</td>\n",
       "      <td>2018</td>\n",
       "      <td>0.182392</td>\n",
       "      <td>0.315774</td>\n",
       "      <td>0.017373</td>\n",
       "      <td>0.248593</td>\n",
       "      <td>0.145229</td>\n",
       "      <td>0.604434</td>\n",
       "      <td>0.161353</td>\n",
       "      <td>0.265695</td>\n",
       "      <td>...</td>\n",
       "      <td>0.024051</td>\n",
       "      <td>0.469010</td>\n",
       "      <td>0.146309</td>\n",
       "      <td>-1.194067</td>\n",
       "      <td>-0.222353</td>\n",
       "      <td>6</td>\n",
       "      <td>0.281841</td>\n",
       "      <td>-0.874385</td>\n",
       "      <td>0.097230</td>\n",
       "      <td>-0.222353</td>\n",
       "    </tr>\n",
       "    <tr>\n",
       "      <th>853</th>\n",
       "      <td>103.859932</td>\n",
       "      <td>2018</td>\n",
       "      <td>0.039744</td>\n",
       "      <td>0.531663</td>\n",
       "      <td>0.092715</td>\n",
       "      <td>0.472175</td>\n",
       "      <td>0.094607</td>\n",
       "      <td>0.571301</td>\n",
       "      <td>0.277832</td>\n",
       "      <td>0.481004</td>\n",
       "      <td>...</td>\n",
       "      <td>-0.276163</td>\n",
       "      <td>0.267022</td>\n",
       "      <td>0.026162</td>\n",
       "      <td>-0.837777</td>\n",
       "      <td>-0.364283</td>\n",
       "      <td>2</td>\n",
       "      <td>0.107504</td>\n",
       "      <td>-0.535158</td>\n",
       "      <td>0.062946</td>\n",
       "      <td>-0.018347</td>\n",
       "    </tr>\n",
       "    <tr>\n",
       "      <th>854</th>\n",
       "      <td>101.769859</td>\n",
       "      <td>2018</td>\n",
       "      <td>0.025519</td>\n",
       "      <td>0.483730</td>\n",
       "      <td>0.071111</td>\n",
       "      <td>0.409683</td>\n",
       "      <td>0.094792</td>\n",
       "      <td>0.512181</td>\n",
       "      <td>0.229230</td>\n",
       "      <td>0.424876</td>\n",
       "      <td>...</td>\n",
       "      <td>-0.470413</td>\n",
       "      <td>0.217588</td>\n",
       "      <td>-0.468139</td>\n",
       "      <td>-1.097718</td>\n",
       "      <td>-0.691919</td>\n",
       "      <td>3</td>\n",
       "      <td>0.146008</td>\n",
       "      <td>-0.716310</td>\n",
       "      <td>0.004366</td>\n",
       "      <td>-0.664441</td>\n",
       "    </tr>\n",
       "  </tbody>\n",
       "</table>\n",
       "<p>5 rows × 54 columns</p>\n",
       "</div>"
      ],
      "text/plain": [
       "      Elevacion  Campania  GNDVI_verano_sd  GNDVI_verano_median  \\\n",
       "850  104.111862      2018         0.175349             0.674135   \n",
       "851  105.698082      2018         0.090484             0.673137   \n",
       "852  104.233162      2018         0.182392             0.315774   \n",
       "853  103.859932      2018         0.039744             0.531663   \n",
       "854  101.769859      2018         0.025519             0.483730   \n",
       "\n",
       "     GNDVI_primavera_sd  GNDVI_primavera_median  GNDVI_anual_sd  \\\n",
       "850            0.210587                0.247672        0.177647   \n",
       "851            0.176979                0.246753        0.184235   \n",
       "852            0.017373                0.248593        0.145229   \n",
       "853            0.092715                0.472175        0.094607   \n",
       "854            0.071111                0.409683        0.094792   \n",
       "\n",
       "     GNDVI_anual_max  GNDVI_anual_min  GNDVI_anual_median  ...  \\\n",
       "850         0.683647         0.220515            0.333781  ...   \n",
       "851         0.686376         0.212813            0.254225  ...   \n",
       "852         0.604434         0.161353            0.265695  ...   \n",
       "853         0.571301         0.277832            0.481004  ...   \n",
       "854         0.512181         0.229230            0.424876  ...   \n",
       "\n",
       "     BSI_primavera_median  BSI_anual_sd  BSI_anual_max  BSI_anual_min  \\\n",
       "850              0.056273      0.667406       0.233312      -1.710840   \n",
       "851              0.157874      0.717319       0.212907      -1.856273   \n",
       "852              0.024051      0.469010       0.146309      -1.194067   \n",
       "853             -0.276163      0.267022       0.026162      -0.837777   \n",
       "854             -0.470413      0.217588      -0.468139      -1.097718   \n",
       "\n",
       "     BSI_anual_median  BSI_anual_max_ind  BSI_otonio_sd  BSI_otonio_median  \\\n",
       "850         -0.167851                 10       0.232372          -0.149071   \n",
       "851          0.049041                 10       0.161911           0.145057   \n",
       "852         -0.222353                  6       0.281841          -0.874385   \n",
       "853         -0.364283                  2       0.107504          -0.535158   \n",
       "854         -0.691919                  3       0.146008          -0.716310   \n",
       "\n",
       "     BSI_invierno_sd  BSI_invierno_median  \n",
       "850         0.103916            -0.060317  \n",
       "851         0.096408             0.049041  \n",
       "852         0.097230            -0.222353  \n",
       "853         0.062946            -0.018347  \n",
       "854         0.004366            -0.664441  \n",
       "\n",
       "[5 rows x 54 columns]"
      ]
     },
     "execution_count": 31,
     "metadata": {},
     "output_type": "execute_result"
    }
   ],
   "source": [
    "test = original_df[original_df.train == False]\n",
    "test = test.drop([  'train', 'CultivoId', 'GlobalId', 'Id', 'Cultivo', 'Dataset', 'Tipo'], axis=1)\n",
    "test.head()"
   ]
  },
  {
   "cell_type": "code",
   "execution_count": 32,
   "metadata": {},
   "outputs": [
    {
     "data": {
      "text/plain": [
       "(555, 54)"
      ]
     },
     "execution_count": 32,
     "metadata": {},
     "output_type": "execute_result"
    }
   ],
   "source": [
    "test.shape"
   ]
  },
  {
   "cell_type": "code",
   "execution_count": 33,
   "metadata": {},
   "outputs": [],
   "source": [
    "labels = train.CultivoId\n",
    "train = train.drop(['CultivoId'], axis=1)"
   ]
  },
  {
   "cell_type": "code",
   "execution_count": null,
   "metadata": {},
   "outputs": [],
   "source": []
  },
  {
   "cell_type": "markdown",
   "metadata": {},
   "source": [
    "Separamos en los set de train y test. Se consideran las distintas clases para así mantener la representatividad de cada una de las clases. \n"
   ]
  },
  {
   "cell_type": "code",
   "execution_count": 34,
   "metadata": {
    "collapsed": false,
    "jupyter": {
     "outputs_hidden": false
    }
   },
   "outputs": [],
   "source": [
    "\n",
    "X_train, X_test, y_train, y_test = train_test_split(\n",
    "    train, labels, stratify=labels, random_state=42,\n",
    "    test_size = 0.3, shuffle = True\n",
    ")"
   ]
  },
  {
   "cell_type": "code",
   "execution_count": 35,
   "metadata": {},
   "outputs": [
    {
     "data": {
      "text/plain": [
       "((16451, 54), (7051, 54))"
      ]
     },
     "execution_count": 35,
     "metadata": {},
     "output_type": "execute_result"
    }
   ],
   "source": [
    "X_train.shape, X_test.shape"
   ]
  },
  {
   "cell_type": "code",
   "execution_count": 36,
   "metadata": {},
   "outputs": [],
   "source": [
    "#campania_train = pd.get_dummies(X_train, columns=[\"Campania\"])[['Campania_2019', 'Campania_2018']] \n",
    "#campania_test = pd.get_dummies(X_test, columns=[\"Campania\"])[['Campania_2019', 'Campania_2018']] \n",
    "\n",
    "#X_train = X_train.drop(['Campania'], axis=1)\n",
    "#X_test = X_test.drop(['Campania'], axis=1)"
   ]
  },
  {
   "cell_type": "markdown",
   "metadata": {},
   "source": [
    "Se escalan los datos para evitar sesgos en la importancia de variables y se crean variables dummies para indicar cada una de las campañas agrícolas. "
   ]
  },
  {
   "cell_type": "code",
   "execution_count": 37,
   "metadata": {},
   "outputs": [
    {
     "name": "stderr",
     "output_type": "stream",
     "text": [
      "/Users/alessiobocco/opt/anaconda3/lib/python3.8/site-packages/pandas/core/indexing.py:966: SettingWithCopyWarning: \n",
      "A value is trying to be set on a copy of a slice from a DataFrame.\n",
      "Try using .loc[row_indexer,col_indexer] = value instead\n",
      "\n",
      "See the caveats in the documentation: https://pandas.pydata.org/pandas-docs/stable/user_guide/indexing.html#returning-a-view-versus-a-copy\n",
      "  self.obj[item] = s\n",
      "/Users/alessiobocco/opt/anaconda3/lib/python3.8/site-packages/pandas/core/indexing.py:966: SettingWithCopyWarning: \n",
      "A value is trying to be set on a copy of a slice from a DataFrame.\n",
      "Try using .loc[row_indexer,col_indexer] = value instead\n",
      "\n",
      "See the caveats in the documentation: https://pandas.pydata.org/pandas-docs/stable/user_guide/indexing.html#returning-a-view-versus-a-copy\n",
      "  self.obj[item] = s\n"
     ]
    }
   ],
   "source": [
    "scaler = preprocessing.StandardScaler().fit(X_train.loc[:, X_train.columns != 'Campania'])\n",
    "X_train.loc[:, X_train.columns != 'Campania'] = scaler.transform(X_train.loc[:, X_train.columns != 'Campania'])\n",
    "X_train = pd.get_dummies(X_train, columns=[\"Campania\"])\n",
    "\n",
    "# Standarize test dataset\n",
    "X_test.loc[:, X_test.columns != 'Campania'] = scaler.transform(X_test.loc[:, X_test.columns != 'Campania'])\n",
    "X_test = pd.get_dummies(X_test, columns=[\"Campania\"])"
   ]
  },
  {
   "cell_type": "code",
   "execution_count": null,
   "metadata": {},
   "outputs": [],
   "source": []
  },
  {
   "cell_type": "markdown",
   "metadata": {},
   "source": [
    "Se transforman también los datos de test con el modelo usado para train. "
   ]
  },
  {
   "cell_type": "code",
   "execution_count": 38,
   "metadata": {},
   "outputs": [],
   "source": [
    "test.loc[:, test.columns != 'Campania'] = scaler.transform(test.loc[:, test.columns != 'Campania'])\n",
    "test = pd.get_dummies(test, columns=[\"Campania\"])"
   ]
  },
  {
   "cell_type": "markdown",
   "metadata": {},
   "source": [
    "Existen diversas estrategias para tratar con un dataset tan desbalanceado "
   ]
  },
  {
   "cell_type": "markdown",
   "metadata": {},
   "source": [
    "Se define una función para el cálculo de dos scorings: accuracy y balanced accuracy. \n"
   ]
  },
  {
   "cell_type": "code",
   "execution_count": 39,
   "metadata": {
    "collapsed": false,
    "jupyter": {
     "outputs_hidden": false
    }
   },
   "outputs": [],
   "source": [
    "def evaluate_classifier(clf, df_scores, clf_name=None):\n",
    "    from sklearn.pipeline import Pipeline\n",
    "    if clf_name is None:\n",
    "        if isinstance(clf, Pipeline):\n",
    "            clf_name = clf[-1].__class__.__name__\n",
    "        else:\n",
    "            clf_name = clf.__class__.__name__\n",
    "    acc = clf.fit(X_train, y_train).score(X_test, y_test)\n",
    "    y_pred = clf.predict(X_test)\n",
    "    bal_acc = balanced_accuracy_score(y_test, y_pred)\n",
    "    clf_score = pd.DataFrame(\n",
    "        {clf_name: [acc, bal_acc]},\n",
    "        index=['Accuracy', 'Balanced accuracy']\n",
    "    )\n",
    "    df_scores = pd.concat([df_scores, clf_score], axis=1).round(decimals=3)\n",
    "    return df_scores\n",
    "\n",
    "\n",
    "# Let's define an empty dataframe to store the results\n",
    "df_scores = pd.DataFrame()"
   ]
  },
  {
   "cell_type": "markdown",
   "metadata": {},
   "source": [
    "Clasificador lineal (benchmark)\n",
    "..........................\n",
    "\n",
    "Se crea un Pipeline usando `LogisticRegression` como clasificador. En este sentido, se usará one-hot_encoding para alguna variable categóricas (Si las hubiese)."
   ]
  },
  {
   "cell_type": "code",
   "execution_count": 40,
   "metadata": {
    "collapsed": false,
    "jupyter": {
     "outputs_hidden": false
    }
   },
   "outputs": [],
   "source": [
    "num_pipe = make_pipeline(\n",
    "    StandardScaler(), SimpleImputer(strategy=\"mean\", add_indicator=True)\n",
    ")\n",
    "cat_pipe = make_pipeline(\n",
    "    SimpleImputer(strategy=\"constant\", fill_value=\"missing\"),\n",
    "    OneHotEncoder(handle_unknown=\"ignore\")\n",
    ")"
   ]
  },
  {
   "cell_type": "markdown",
   "metadata": {},
   "source": [
    "Luego se crea un proprocesador que convertirá automáticamente las variables categóricas\n"
   ]
  },
  {
   "cell_type": "code",
   "execution_count": 41,
   "metadata": {
    "collapsed": false,
    "jupyter": {
     "outputs_hidden": false
    }
   },
   "outputs": [],
   "source": [
    "preprocessor_linear = ColumnTransformer(\n",
    "    [(\"num-pipe\", num_pipe, selector(dtype_include=np.number)),\n",
    "     (\"cat-pipe\", cat_pipe, selector(dtype_include=pd.CategoricalDtype))],\n",
    "    n_jobs=2\n",
    ")"
   ]
  },
  {
   "cell_type": "markdown",
   "metadata": {},
   "source": [
    "Por último, se conecta el proporcesador con la `LogisticRegression` y se puede evaluar el modelo."
   ]
  },
  {
   "cell_type": "code",
   "execution_count": 42,
   "metadata": {
    "collapsed": false,
    "jupyter": {
     "outputs_hidden": false
    }
   },
   "outputs": [
    {
     "name": "stderr",
     "output_type": "stream",
     "text": [
      "/Users/alessiobocco/opt/anaconda3/lib/python3.8/site-packages/sklearn/linear_model/_logistic.py:762: ConvergenceWarning: lbfgs failed to converge (status=1):\n",
      "STOP: TOTAL NO. of ITERATIONS REACHED LIMIT.\n",
      "\n",
      "Increase the number of iterations (max_iter) or scale the data as shown in:\n",
      "    https://scikit-learn.org/stable/modules/preprocessing.html\n",
      "Please also refer to the documentation for alternative solver options:\n",
      "    https://scikit-learn.org/stable/modules/linear_model.html#logistic-regression\n",
      "  n_iter_i = _check_optimize_result(\n"
     ]
    },
    {
     "data": {
      "text/html": [
       "<div>\n",
       "<style scoped>\n",
       "    .dataframe tbody tr th:only-of-type {\n",
       "        vertical-align: middle;\n",
       "    }\n",
       "\n",
       "    .dataframe tbody tr th {\n",
       "        vertical-align: top;\n",
       "    }\n",
       "\n",
       "    .dataframe thead th {\n",
       "        text-align: right;\n",
       "    }\n",
       "</style>\n",
       "<table border=\"1\" class=\"dataframe\">\n",
       "  <thead>\n",
       "    <tr style=\"text-align: right;\">\n",
       "      <th></th>\n",
       "      <th>LR</th>\n",
       "    </tr>\n",
       "  </thead>\n",
       "  <tbody>\n",
       "    <tr>\n",
       "      <th>Accuracy</th>\n",
       "      <td>0.803</td>\n",
       "    </tr>\n",
       "    <tr>\n",
       "      <th>Balanced accuracy</th>\n",
       "      <td>0.715</td>\n",
       "    </tr>\n",
       "  </tbody>\n",
       "</table>\n",
       "</div>"
      ],
      "text/plain": [
       "                      LR\n",
       "Accuracy           0.803\n",
       "Balanced accuracy  0.715"
      ]
     },
     "execution_count": 42,
     "metadata": {},
     "output_type": "execute_result"
    }
   ],
   "source": [
    "from sklearn.linear_model import LogisticRegression\n",
    "\n",
    "lr_clf = make_pipeline(\n",
    "    preprocessor_linear, LogisticRegression(max_iter=1000)\n",
    ")\n",
    "df_scores = evaluate_classifier(lr_clf, df_scores, \"LR\")\n",
    "df_scores"
   ]
  },
  {
   "cell_type": "markdown",
   "metadata": {},
   "source": [
    "Los resultados con el modelo lineal no son demasiado buenos y se ve con claridad el impacto del desbalance en las clases en la diferencia entre accuracy y balanced accuracy.\n",
    "\n",
    "Ahora, intentaremos una clasificación similar solo con un modelo basado en árboles como `RandomForestClassifier`. "
   ]
  },
  {
   "cell_type": "code",
   "execution_count": 44,
   "metadata": {
    "collapsed": false,
    "jupyter": {
     "outputs_hidden": false
    }
   },
   "outputs": [
    {
     "data": {
      "text/html": [
       "<div>\n",
       "<style scoped>\n",
       "    .dataframe tbody tr th:only-of-type {\n",
       "        vertical-align: middle;\n",
       "    }\n",
       "\n",
       "    .dataframe tbody tr th {\n",
       "        vertical-align: top;\n",
       "    }\n",
       "\n",
       "    .dataframe thead th {\n",
       "        text-align: right;\n",
       "    }\n",
       "</style>\n",
       "<table border=\"1\" class=\"dataframe\">\n",
       "  <thead>\n",
       "    <tr style=\"text-align: right;\">\n",
       "      <th></th>\n",
       "      <th>LR</th>\n",
       "      <th>RF</th>\n",
       "    </tr>\n",
       "  </thead>\n",
       "  <tbody>\n",
       "    <tr>\n",
       "      <th>Accuracy</th>\n",
       "      <td>0.803</td>\n",
       "      <td>0.961</td>\n",
       "    </tr>\n",
       "    <tr>\n",
       "      <th>Balanced accuracy</th>\n",
       "      <td>0.715</td>\n",
       "      <td>0.918</td>\n",
       "    </tr>\n",
       "  </tbody>\n",
       "</table>\n",
       "</div>"
      ],
      "text/plain": [
       "                      LR     RF\n",
       "Accuracy           0.803  0.961\n",
       "Balanced accuracy  0.715  0.918"
      ]
     },
     "execution_count": 44,
     "metadata": {},
     "output_type": "execute_result"
    }
   ],
   "source": [
    "cat_pipe = make_pipeline(\n",
    "    SimpleImputer(strategy=\"constant\", fill_value=\"missing\"),\n",
    "    OrdinalEncoder()\n",
    ")\n",
    "\n",
    "preprocessor_tree = ColumnTransformer(\n",
    "    [(\"num-pipe\", num_pipe, selector(dtype_include=np.number)),\n",
    "     (\"cat-pipe\", cat_pipe, selector(dtype_include=pd.CategoricalDtype))],\n",
    "    n_jobs=2\n",
    ")\n",
    "\n",
    "rf_clf = make_pipeline(\n",
    "    preprocessor_tree, RandomForestClassifier(random_state=42, n_jobs=2)\n",
    ")\n",
    "\n",
    "df_scores = evaluate_classifier(rf_clf, df_scores, \"RF\")\n",
    "df_scores"
   ]
  },
  {
   "cell_type": "markdown",
   "metadata": {},
   "source": [
    "El `RandomForestClassifier` también es afectado por el desbalance de clases, aunque un poco menos que el modelo lineal. \n",
    "Existen dos alternativas posibles para compensar este efecto dentro del `RandomForestClassifier`\n",
    "\n",
    "\n",
    "Usar `class_weight`\n",
    "\n",
    "\n",
    "Muchos modelos en `scikit-learn` tienen el parametro `class_weight`. Si se activa, el algortimo penaliza las diferencias debido a flasas clasificaciones de la clases minoritaría por la mayoritaria. Se puede usar `class_weight=\"balanced\"`lo que implica que los pesos será inversamente proporcionales a las proporciones. "
   ]
  },
  {
   "cell_type": "code",
   "execution_count": 45,
   "metadata": {
    "collapsed": false,
    "jupyter": {
     "outputs_hidden": false
    }
   },
   "outputs": [
    {
     "name": "stderr",
     "output_type": "stream",
     "text": [
      "/Users/alessiobocco/opt/anaconda3/lib/python3.8/site-packages/sklearn/linear_model/_logistic.py:762: ConvergenceWarning: lbfgs failed to converge (status=1):\n",
      "STOP: TOTAL NO. of ITERATIONS REACHED LIMIT.\n",
      "\n",
      "Increase the number of iterations (max_iter) or scale the data as shown in:\n",
      "    https://scikit-learn.org/stable/modules/preprocessing.html\n",
      "Please also refer to the documentation for alternative solver options:\n",
      "    https://scikit-learn.org/stable/modules/linear_model.html#logistic-regression\n",
      "  n_iter_i = _check_optimize_result(\n"
     ]
    },
    {
     "data": {
      "text/html": [
       "<div>\n",
       "<style scoped>\n",
       "    .dataframe tbody tr th:only-of-type {\n",
       "        vertical-align: middle;\n",
       "    }\n",
       "\n",
       "    .dataframe tbody tr th {\n",
       "        vertical-align: top;\n",
       "    }\n",
       "\n",
       "    .dataframe thead th {\n",
       "        text-align: right;\n",
       "    }\n",
       "</style>\n",
       "<table border=\"1\" class=\"dataframe\">\n",
       "  <thead>\n",
       "    <tr style=\"text-align: right;\">\n",
       "      <th></th>\n",
       "      <th>LR</th>\n",
       "      <th>RF</th>\n",
       "      <th>LR with class weight</th>\n",
       "    </tr>\n",
       "  </thead>\n",
       "  <tbody>\n",
       "    <tr>\n",
       "      <th>Accuracy</th>\n",
       "      <td>0.803</td>\n",
       "      <td>0.961</td>\n",
       "      <td>0.733</td>\n",
       "    </tr>\n",
       "    <tr>\n",
       "      <th>Balanced accuracy</th>\n",
       "      <td>0.715</td>\n",
       "      <td>0.918</td>\n",
       "      <td>0.850</td>\n",
       "    </tr>\n",
       "  </tbody>\n",
       "</table>\n",
       "</div>"
      ],
      "text/plain": [
       "                      LR     RF  LR with class weight\n",
       "Accuracy           0.803  0.961                 0.733\n",
       "Balanced accuracy  0.715  0.918                 0.850"
      ]
     },
     "execution_count": 45,
     "metadata": {},
     "output_type": "execute_result"
    }
   ],
   "source": [
    "lr_clf.set_params(logisticregression__class_weight=\"balanced\")\n",
    "df_scores = evaluate_classifier(\n",
    "    lr_clf, df_scores, \"LR with class weight\"\n",
    ")\n",
    "df_scores"
   ]
  },
  {
   "cell_type": "code",
   "execution_count": 46,
   "metadata": {
    "collapsed": false,
    "jupyter": {
     "outputs_hidden": false
    }
   },
   "outputs": [
    {
     "data": {
      "text/html": [
       "<div>\n",
       "<style scoped>\n",
       "    .dataframe tbody tr th:only-of-type {\n",
       "        vertical-align: middle;\n",
       "    }\n",
       "\n",
       "    .dataframe tbody tr th {\n",
       "        vertical-align: top;\n",
       "    }\n",
       "\n",
       "    .dataframe thead th {\n",
       "        text-align: right;\n",
       "    }\n",
       "</style>\n",
       "<table border=\"1\" class=\"dataframe\">\n",
       "  <thead>\n",
       "    <tr style=\"text-align: right;\">\n",
       "      <th></th>\n",
       "      <th>LR</th>\n",
       "      <th>RF</th>\n",
       "      <th>LR with class weight</th>\n",
       "      <th>RF with class weight</th>\n",
       "    </tr>\n",
       "  </thead>\n",
       "  <tbody>\n",
       "    <tr>\n",
       "      <th>Accuracy</th>\n",
       "      <td>0.803</td>\n",
       "      <td>0.961</td>\n",
       "      <td>0.733</td>\n",
       "      <td>0.958</td>\n",
       "    </tr>\n",
       "    <tr>\n",
       "      <th>Balanced accuracy</th>\n",
       "      <td>0.715</td>\n",
       "      <td>0.918</td>\n",
       "      <td>0.850</td>\n",
       "      <td>0.906</td>\n",
       "    </tr>\n",
       "  </tbody>\n",
       "</table>\n",
       "</div>"
      ],
      "text/plain": [
       "                      LR     RF  LR with class weight  RF with class weight\n",
       "Accuracy           0.803  0.961                 0.733                 0.958\n",
       "Balanced accuracy  0.715  0.918                 0.850                 0.906"
      ]
     },
     "execution_count": 46,
     "metadata": {},
     "output_type": "execute_result"
    }
   ],
   "source": [
    "rf_clf.set_params(randomforestclassifier__class_weight=\"balanced\")\n",
    "df_scores = evaluate_classifier(\n",
    "    rf_clf, df_scores, \"RF with class weight\"\n",
    ")\n",
    "df_scores"
   ]
  },
  {
   "cell_type": "markdown",
   "metadata": {},
   "source": [
    "El parámetro`class_weight` fue muy efectivo para el modelo lineal pero no tanto para `RandomForest` que aún se encuentra sesgado. Una segunda alternativa para esto es usar remuestreo durante la etapa de train con el paquete `imbalanced-learn`."
   ]
  },
  {
   "cell_type": "code",
   "execution_count": 47,
   "metadata": {
    "collapsed": false,
    "jupyter": {
     "outputs_hidden": false
    }
   },
   "outputs": [
    {
     "name": "stderr",
     "output_type": "stream",
     "text": [
      "/Users/alessiobocco/opt/anaconda3/lib/python3.8/site-packages/sklearn/linear_model/_logistic.py:762: ConvergenceWarning: lbfgs failed to converge (status=1):\n",
      "STOP: TOTAL NO. of ITERATIONS REACHED LIMIT.\n",
      "\n",
      "Increase the number of iterations (max_iter) or scale the data as shown in:\n",
      "    https://scikit-learn.org/stable/modules/preprocessing.html\n",
      "Please also refer to the documentation for alternative solver options:\n",
      "    https://scikit-learn.org/stable/modules/linear_model.html#logistic-regression\n",
      "  n_iter_i = _check_optimize_result(\n"
     ]
    },
    {
     "data": {
      "text/html": [
       "<div>\n",
       "<style scoped>\n",
       "    .dataframe tbody tr th:only-of-type {\n",
       "        vertical-align: middle;\n",
       "    }\n",
       "\n",
       "    .dataframe tbody tr th {\n",
       "        vertical-align: top;\n",
       "    }\n",
       "\n",
       "    .dataframe thead th {\n",
       "        text-align: right;\n",
       "    }\n",
       "</style>\n",
       "<table border=\"1\" class=\"dataframe\">\n",
       "  <thead>\n",
       "    <tr style=\"text-align: right;\">\n",
       "      <th></th>\n",
       "      <th>LR</th>\n",
       "      <th>RF</th>\n",
       "      <th>LR with class weight</th>\n",
       "      <th>RF with class weight</th>\n",
       "      <th>LR with over-sampling</th>\n",
       "    </tr>\n",
       "  </thead>\n",
       "  <tbody>\n",
       "    <tr>\n",
       "      <th>Accuracy</th>\n",
       "      <td>0.803</td>\n",
       "      <td>0.961</td>\n",
       "      <td>0.733</td>\n",
       "      <td>0.958</td>\n",
       "      <td>0.740</td>\n",
       "    </tr>\n",
       "    <tr>\n",
       "      <th>Balanced accuracy</th>\n",
       "      <td>0.715</td>\n",
       "      <td>0.918</td>\n",
       "      <td>0.850</td>\n",
       "      <td>0.906</td>\n",
       "      <td>0.853</td>\n",
       "    </tr>\n",
       "  </tbody>\n",
       "</table>\n",
       "</div>"
      ],
      "text/plain": [
       "                      LR     RF  LR with class weight  RF with class weight  \\\n",
       "Accuracy           0.803  0.961                 0.733                 0.958   \n",
       "Balanced accuracy  0.715  0.918                 0.850                 0.906   \n",
       "\n",
       "                   LR with over-sampling  \n",
       "Accuracy                           0.740  \n",
       "Balanced accuracy                  0.853  "
      ]
     },
     "execution_count": 47,
     "metadata": {},
     "output_type": "execute_result"
    }
   ],
   "source": [
    "from imblearn.pipeline import make_pipeline as make_pipeline_with_sampler\n",
    "#from imblearn.under_sampling import RandomUnderSampler\n",
    "from imblearn.over_sampling import RandomOverSampler\n",
    "\n",
    "lr_clf = make_pipeline_with_sampler(\n",
    "    preprocessor_linear,\n",
    "    RandomOverSampler(random_state=42),\n",
    "    LogisticRegression(max_iter=1000)\n",
    ")\n",
    "df_scores = evaluate_classifier(\n",
    "    lr_clf, df_scores, \"LR with over-sampling\"\n",
    ")\n",
    "df_scores"
   ]
  },
  {
   "cell_type": "code",
   "execution_count": 26,
   "metadata": {
    "collapsed": false,
    "jupyter": {
     "outputs_hidden": false
    }
   },
   "outputs": [
    {
     "data": {
      "text/html": [
       "<div>\n",
       "<style scoped>\n",
       "    .dataframe tbody tr th:only-of-type {\n",
       "        vertical-align: middle;\n",
       "    }\n",
       "\n",
       "    .dataframe tbody tr th {\n",
       "        vertical-align: top;\n",
       "    }\n",
       "\n",
       "    .dataframe thead th {\n",
       "        text-align: right;\n",
       "    }\n",
       "</style>\n",
       "<table border=\"1\" class=\"dataframe\">\n",
       "  <thead>\n",
       "    <tr style=\"text-align: right;\">\n",
       "      <th></th>\n",
       "      <th>Dummy</th>\n",
       "      <th>LR</th>\n",
       "      <th>RF</th>\n",
       "      <th>LR with class weight</th>\n",
       "      <th>RF with class weight</th>\n",
       "      <th>LR with over-sampling</th>\n",
       "      <th>RF with over-sampling</th>\n",
       "    </tr>\n",
       "  </thead>\n",
       "  <tbody>\n",
       "    <tr>\n",
       "      <th>Accuracy</th>\n",
       "      <td>0.407</td>\n",
       "      <td>0.803</td>\n",
       "      <td>0.961</td>\n",
       "      <td>0.733</td>\n",
       "      <td>0.958</td>\n",
       "      <td>0.740</td>\n",
       "      <td>0.966</td>\n",
       "    </tr>\n",
       "    <tr>\n",
       "      <th>Balanced accuracy</th>\n",
       "      <td>0.071</td>\n",
       "      <td>0.715</td>\n",
       "      <td>0.918</td>\n",
       "      <td>0.850</td>\n",
       "      <td>0.906</td>\n",
       "      <td>0.853</td>\n",
       "      <td>0.925</td>\n",
       "    </tr>\n",
       "  </tbody>\n",
       "</table>\n",
       "</div>"
      ],
      "text/plain": [
       "                   Dummy     LR     RF  LR with class weight  \\\n",
       "Accuracy           0.407  0.803  0.961                 0.733   \n",
       "Balanced accuracy  0.071  0.715  0.918                 0.850   \n",
       "\n",
       "                   RF with class weight  LR with over-sampling  \\\n",
       "Accuracy                          0.958                  0.740   \n",
       "Balanced accuracy                 0.906                  0.853   \n",
       "\n",
       "                   RF with over-sampling  \n",
       "Accuracy                           0.966  \n",
       "Balanced accuracy                  0.925  "
      ]
     },
     "execution_count": 26,
     "metadata": {},
     "output_type": "execute_result"
    }
   ],
   "source": [
    "rf_clf = make_pipeline_with_sampler(\n",
    "    preprocessor_tree,\n",
    "    RandomOverSampler(random_state=42),\n",
    "    RandomForestClassifier(random_state=42, n_jobs=2)\n",
    ")\n",
    "\n",
    "df_scores = evaluate_classifier(\n",
    "    rf_clf, df_scores, \"RF with over-sampling\"\n",
    ")\n",
    "df_scores"
   ]
  },
  {
   "cell_type": "markdown",
   "metadata": {},
   "source": [
    "Utilizar el remuestreo mejoró los resultados tanto para el modelo lineal como para `RandomForest`. \n",
    "\n",
    "\n",
    "La última alternativa es el uso de `BalancedRandomForestClassifier` y `BalancedBaggingClassifier`"
   ]
  },
  {
   "cell_type": "code",
   "execution_count": 48,
   "metadata": {
    "collapsed": false,
    "jupyter": {
     "outputs_hidden": false
    }
   },
   "outputs": [
    {
     "data": {
      "text/html": [
       "<div>\n",
       "<style scoped>\n",
       "    .dataframe tbody tr th:only-of-type {\n",
       "        vertical-align: middle;\n",
       "    }\n",
       "\n",
       "    .dataframe tbody tr th {\n",
       "        vertical-align: top;\n",
       "    }\n",
       "\n",
       "    .dataframe thead th {\n",
       "        text-align: right;\n",
       "    }\n",
       "</style>\n",
       "<table border=\"1\" class=\"dataframe\">\n",
       "  <thead>\n",
       "    <tr style=\"text-align: right;\">\n",
       "      <th></th>\n",
       "      <th>LR</th>\n",
       "      <th>RF</th>\n",
       "      <th>LR with class weight</th>\n",
       "      <th>RF with class weight</th>\n",
       "      <th>LR with over-sampling</th>\n",
       "      <th>Balanced RF</th>\n",
       "    </tr>\n",
       "  </thead>\n",
       "  <tbody>\n",
       "    <tr>\n",
       "      <th>Accuracy</th>\n",
       "      <td>0.803</td>\n",
       "      <td>0.961</td>\n",
       "      <td>0.733</td>\n",
       "      <td>0.958</td>\n",
       "      <td>0.740</td>\n",
       "      <td>0.690</td>\n",
       "    </tr>\n",
       "    <tr>\n",
       "      <th>Balanced accuracy</th>\n",
       "      <td>0.715</td>\n",
       "      <td>0.918</td>\n",
       "      <td>0.850</td>\n",
       "      <td>0.906</td>\n",
       "      <td>0.853</td>\n",
       "      <td>0.816</td>\n",
       "    </tr>\n",
       "  </tbody>\n",
       "</table>\n",
       "</div>"
      ],
      "text/plain": [
       "                      LR     RF  LR with class weight  RF with class weight  \\\n",
       "Accuracy           0.803  0.961                 0.733                 0.958   \n",
       "Balanced accuracy  0.715  0.918                 0.850                 0.906   \n",
       "\n",
       "                   LR with over-sampling  Balanced RF  \n",
       "Accuracy                           0.740        0.690  \n",
       "Balanced accuracy                  0.853        0.816  "
      ]
     },
     "execution_count": 48,
     "metadata": {},
     "output_type": "execute_result"
    }
   ],
   "source": [
    "from imblearn.ensemble import BalancedRandomForestClassifier\n",
    "\n",
    "rf_clf = make_pipeline(\n",
    "    preprocessor_tree,\n",
    "    BalancedRandomForestClassifier(random_state=42, n_jobs=2)\n",
    ")\n",
    "\n",
    "df_scores = evaluate_classifier(rf_clf, df_scores, \"Balanced RF\")\n",
    "df_scores"
   ]
  },
  {
   "cell_type": "code",
   "execution_count": 49,
   "metadata": {
    "collapsed": false,
    "jupyter": {
     "outputs_hidden": false
    }
   },
   "outputs": [
    {
     "data": {
      "text/html": [
       "<div>\n",
       "<style scoped>\n",
       "    .dataframe tbody tr th:only-of-type {\n",
       "        vertical-align: middle;\n",
       "    }\n",
       "\n",
       "    .dataframe tbody tr th {\n",
       "        vertical-align: top;\n",
       "    }\n",
       "\n",
       "    .dataframe thead th {\n",
       "        text-align: right;\n",
       "    }\n",
       "</style>\n",
       "<table border=\"1\" class=\"dataframe\">\n",
       "  <thead>\n",
       "    <tr style=\"text-align: right;\">\n",
       "      <th></th>\n",
       "      <th>LR</th>\n",
       "      <th>RF</th>\n",
       "      <th>LR with class weight</th>\n",
       "      <th>RF with class weight</th>\n",
       "      <th>LR with over-sampling</th>\n",
       "      <th>Balanced RF</th>\n",
       "      <th>Balanced bagging</th>\n",
       "    </tr>\n",
       "  </thead>\n",
       "  <tbody>\n",
       "    <tr>\n",
       "      <th>Accuracy</th>\n",
       "      <td>0.803</td>\n",
       "      <td>0.961</td>\n",
       "      <td>0.733</td>\n",
       "      <td>0.958</td>\n",
       "      <td>0.740</td>\n",
       "      <td>0.690</td>\n",
       "      <td>0.712</td>\n",
       "    </tr>\n",
       "    <tr>\n",
       "      <th>Balanced accuracy</th>\n",
       "      <td>0.715</td>\n",
       "      <td>0.918</td>\n",
       "      <td>0.850</td>\n",
       "      <td>0.906</td>\n",
       "      <td>0.853</td>\n",
       "      <td>0.816</td>\n",
       "      <td>0.849</td>\n",
       "    </tr>\n",
       "  </tbody>\n",
       "</table>\n",
       "</div>"
      ],
      "text/plain": [
       "                      LR     RF  LR with class weight  RF with class weight  \\\n",
       "Accuracy           0.803  0.961                 0.733                 0.958   \n",
       "Balanced accuracy  0.715  0.918                 0.850                 0.906   \n",
       "\n",
       "                   LR with over-sampling  Balanced RF  Balanced bagging  \n",
       "Accuracy                           0.740        0.690             0.712  \n",
       "Balanced accuracy                  0.853        0.816             0.849  "
      ]
     },
     "execution_count": 49,
     "metadata": {},
     "output_type": "execute_result"
    }
   ],
   "source": [
    "from sklearn.experimental import enable_hist_gradient_boosting\n",
    "from sklearn.ensemble import HistGradientBoostingClassifier\n",
    "from imblearn.ensemble import BalancedBaggingClassifier\n",
    "\n",
    "bag_clf = make_pipeline(\n",
    "    preprocessor_tree,\n",
    "    BalancedBaggingClassifier(\n",
    "        base_estimator=HistGradientBoostingClassifier(random_state=42),\n",
    "        n_estimators=10, random_state=42, n_jobs=2\n",
    "    )\n",
    ")\n",
    "\n",
    "df_scores = evaluate_classifier(\n",
    "    bag_clf, df_scores, \"Balanced bagging\"\n",
    ")\n",
    "df_scores"
   ]
  },
  {
   "cell_type": "code",
   "execution_count": 29,
   "metadata": {},
   "outputs": [],
   "source": [
    "#Preprocesado, metricas y modelos\n",
    "from sklearn.preprocessing import StandardScaler\n",
    "from sklearn.model_selection import train_test_split, cross_val_score, GridSearchCV\n",
    "from imblearn.pipeline import Pipeline\n",
    "from sklearn.ensemble import RandomForestClassifier\n",
    "from sklearn.metrics import classification_report, roc_auc_score\n",
    "from imblearn.over_sampling import SMOTE"
   ]
  },
  {
   "cell_type": "code",
   "execution_count": 30,
   "metadata": {},
   "outputs": [
    {
     "name": "stdout",
     "output_type": "stream",
     "text": [
      "              precision    recall  f1-score   support\n",
      "\n",
      "         1.0       0.97      0.98      0.97      2868\n",
      "         2.0       0.98      0.97      0.97       750\n",
      "         3.0       0.98      0.97      0.97      1762\n",
      "         4.0       1.00      0.94      0.97        32\n",
      "         5.0       1.00      1.00      1.00        17\n",
      "         7.0       1.00      0.89      0.94         9\n",
      "         8.0       1.00      1.00      1.00        43\n",
      "         9.0       0.92      0.92      0.92       463\n",
      "        10.0       0.89      0.94      0.92       661\n",
      "        11.0       0.98      1.00      0.99        52\n",
      "        15.0       1.00      0.79      0.88        14\n",
      "        19.0       1.00      1.00      1.00        17\n",
      "        23.0       0.98      0.80      0.88       289\n",
      "        24.0       0.95      0.81      0.88        74\n",
      "\n",
      "    accuracy                           0.96      7051\n",
      "   macro avg       0.98      0.93      0.95      7051\n",
      "weighted avg       0.96      0.96      0.96      7051\n",
      "\n"
     ]
    }
   ],
   "source": [
    "forest=RandomForestClassifier(n_jobs=-1)\n",
    "forest.fit(X_train,y_train)\n",
    "pred=forest.predict(X_test)\n",
    "print(classification_report(y_test,pred))"
   ]
  },
  {
   "cell_type": "code",
   "execution_count": 31,
   "metadata": {},
   "outputs": [
    {
     "data": {
      "text/plain": [
       "array([0.86826533, 0.92504858, 0.87738446])"
      ]
     },
     "execution_count": 31,
     "metadata": {},
     "output_type": "execute_result"
    }
   ],
   "source": [
    "cross_val_score(forest,X_train,y_train,cv=3,scoring=\"balanced_accuracy\")"
   ]
  },
  {
   "cell_type": "code",
   "execution_count": 32,
   "metadata": {},
   "outputs": [],
   "source": [
    "oversampler = SMOTE()\n",
    "wrong_x, wrong_y = oversampler.fit_resample(X_train,y_train)"
   ]
  },
  {
   "cell_type": "code",
   "execution_count": 33,
   "metadata": {},
   "outputs": [
    {
     "name": "stdout",
     "output_type": "stream",
     "text": [
      "CPU times: user 3min 52s, sys: 1.37 s, total: 3min 53s\n",
      "Wall time: 3min 54s\n"
     ]
    },
    {
     "data": {
      "text/plain": [
       "array([0.87415695, 0.93913707, 0.97362609, 0.95904738, 0.94318506])"
      ]
     },
     "execution_count": 33,
     "metadata": {},
     "output_type": "execute_result"
    }
   ],
   "source": [
    "# Model to create more samples of the least represented classes\n",
    "oversampler = SMOTE()\n",
    "# Classifier\n",
    "model=RandomForestClassifier()\n",
    "imba_pipeline = Pipeline([('oversampler', oversampler), ('model', model)])\n",
    "%time cross_val_score(imba_pipeline,X_train,y_train,cv=5,scoring=\"balanced_accuracy\")"
   ]
  },
  {
   "cell_type": "code",
   "execution_count": 34,
   "metadata": {},
   "outputs": [
    {
     "name": "stdout",
     "output_type": "stream",
     "text": [
      "Fitting 5 folds for each of 27 candidates, totalling 135 fits\n"
     ]
    },
    {
     "name": "stderr",
     "output_type": "stream",
     "text": [
      "[Parallel(n_jobs=6)]: Using backend LokyBackend with 6 concurrent workers.\n",
      "[Parallel(n_jobs=6)]: Done  38 tasks      | elapsed:  5.8min\n",
      "[Parallel(n_jobs=6)]: Done 135 out of 135 | elapsed: 37.8min finished\n"
     ]
    },
    {
     "name": "stdout",
     "output_type": "stream",
     "text": [
      "CPU times: user 2min 42s, sys: 492 ms, total: 2min 43s\n",
      "Wall time: 38min 17s\n"
     ]
    },
    {
     "data": {
      "text/plain": [
       "GridSearchCV(cv=5,\n",
       "             estimator=Pipeline(steps=[('oversampler', SMOTE()),\n",
       "                                       ('model',\n",
       "                                        RandomForestClassifier(n_jobs=6))]),\n",
       "             n_jobs=6,\n",
       "             param_grid={'model__max_features': ['sqrt', 0.5, 'log2'],\n",
       "                         'model__min_samples_leaf': [2, 3, 4],\n",
       "                         'model__n_estimators': [50, 100, 150]},\n",
       "             scoring='balanced_accuracy', verbose=1)"
      ]
     },
     "execution_count": 34,
     "metadata": {},
     "output_type": "execute_result"
    }
   ],
   "source": [
    "model=RandomForestClassifier(n_jobs = 6)\n",
    "\n",
    "imba_pipeline = Pipeline([\n",
    "        ('oversampler', oversampler),\n",
    "        ('model', model)])\n",
    "\n",
    "params = {\"model__min_samples_leaf\":[2,3,4],\n",
    "          \"model__max_features\":[\"sqrt\",0.5,\"log2\"],\n",
    "          \"model__n_estimators\":[50,100,150]}\n",
    "\n",
    "grid = GridSearchCV(imba_pipeline, params, scoring=\"balanced_accuracy\", cv=5, verbose = 1, n_jobs = 6)\n",
    "%time grid.fit(X_train, y_train)"
   ]
  },
  {
   "cell_type": "code",
   "execution_count": 35,
   "metadata": {},
   "outputs": [
    {
     "data": {
      "text/plain": [
       "{'model__max_features': 0.5,\n",
       " 'model__min_samples_leaf': 2,\n",
       " 'model__n_estimators': 50}"
      ]
     },
     "execution_count": 35,
     "metadata": {},
     "output_type": "execute_result"
    }
   ],
   "source": [
    "grid.best_params_"
   ]
  },
  {
   "cell_type": "code",
   "execution_count": 36,
   "metadata": {},
   "outputs": [
    {
     "data": {
      "text/plain": [
       "0.9468977611091779"
      ]
     },
     "execution_count": 36,
     "metadata": {},
     "output_type": "execute_result"
    }
   ],
   "source": [
    "grid.best_score_"
   ]
  },
  {
   "cell_type": "code",
   "execution_count": 37,
   "metadata": {},
   "outputs": [
    {
     "name": "stdout",
     "output_type": "stream",
     "text": [
      "Balanced accuracy test = 0.9327353470809095\n"
     ]
    }
   ],
   "source": [
    "forest_tuned=RandomForestClassifier(max_features = 0.5, min_samples_leaf=2,n_estimators=50,oob_score=True)\n",
    "forest_tuned.fit(wrong_x,wrong_y)\n",
    "pred=forest_tuned.predict(X_test)\n",
    "print(\"Balanced accuracy test = {}\".format(balanced_accuracy_score(y_test,pred)))"
   ]
  },
  {
   "cell_type": "code",
   "execution_count": 38,
   "metadata": {},
   "outputs": [
    {
     "name": "stdout",
     "output_type": "stream",
     "text": [
      "              precision    recall  f1-score   support\n",
      "\n",
      "         1.0       0.98      0.97      0.98      2868\n",
      "         2.0       0.98      0.97      0.97       750\n",
      "         3.0       0.98      0.97      0.98      1762\n",
      "         4.0       1.00      0.94      0.97        32\n",
      "         5.0       1.00      0.94      0.97        17\n",
      "         7.0       1.00      0.89      0.94         9\n",
      "         8.0       1.00      1.00      1.00        43\n",
      "         9.0       0.93      0.95      0.94       463\n",
      "        10.0       0.89      0.96      0.92       661\n",
      "        11.0       0.98      1.00      0.99        52\n",
      "        15.0       0.91      0.71      0.80        14\n",
      "        19.0       1.00      1.00      1.00        17\n",
      "        23.0       0.96      0.87      0.91       289\n",
      "        24.0       0.86      0.88      0.87        74\n",
      "\n",
      "    accuracy                           0.96      7051\n",
      "   macro avg       0.96      0.93      0.95      7051\n",
      "weighted avg       0.97      0.96      0.96      7051\n",
      "\n"
     ]
    }
   ],
   "source": [
    "print(classification_report(y_test,pred))"
   ]
  },
  {
   "cell_type": "code",
   "execution_count": 39,
   "metadata": {},
   "outputs": [
    {
     "data": {
      "image/png": "[encoded data removed]",
      "text/plain": [
       "<Figure size 600x400 with 2 Axes>"
      ]
     },
     "metadata": {
      "needs_background": "light"
     },
     "output_type": "display_data"
    }
   ],
   "source": [
    "from sklearn.metrics import confusion_matrix\n",
    "# # Print confusion matrix for stacking\n",
    "rf_confusion = confusion_matrix(y_test, forest_tuned.predict(X_test))\n",
    "plt.figure(dpi=100)\n",
    "sns.heatmap(rf_confusion, cmap=plt.cm.Blues, annot=True, square=True, fmt='g')\n",
    "\n",
    "plt.xlabel('Predicted crop')\n",
    "plt.ylabel('Actual crop')\n",
    "plt.title('RF confusion matrix');\n",
    "\n",
    "# plt.savefig(\"confusion_matrix_logit_iris\")"
   ]
  },
  {
   "cell_type": "code",
   "execution_count": 40,
   "metadata": {},
   "outputs": [],
   "source": [
    "def importances_plot(X,model):\n",
    "    \n",
    "    feature_imp=pd.DataFrame(list(zip(X.columns,model.feature_importances_))).sort_values(by=1,ascending=False)\n",
    "    plt.figure(figsize=(15,8))\n",
    "    sns.barplot(feature_imp[1],feature_imp[0],palette=\"RdYlGn_r\",orient=\"h\")\n",
    "    plt.xticks(rotation=90)\n",
    "    plt.title(\"Importancia de variables\", fontsize=12)\n",
    "    plt.xlabel(\"Importancia %\")\n",
    "    plt.ylabel(\"Variables\")\n",
    "    plt.show()"
   ]
  },
  {
   "cell_type": "code",
   "execution_count": 41,
   "metadata": {},
   "outputs": [
    {
     "data": {
      "image/png": "[encoded data removed]",
      "text/plain": [
       "<Figure size 1080x576 with 1 Axes>"
      ]
     },
     "metadata": {
      "needs_background": "light"
     },
     "output_type": "display_data"
    }
   ],
   "source": [
    "importances_plot(X_train,forest_tuned)"
   ]
  },
  {
   "cell_type": "code",
   "execution_count": null,
   "metadata": {},
   "outputs": [],
   "source": []
  },
  {
   "cell_type": "code",
   "execution_count": null,
   "metadata": {},
   "outputs": [],
   "source": []
  },
  {
   "cell_type": "markdown",
   "metadata": {},
   "source": [
    "## MLP"
   ]
  },
  {
   "cell_type": "code",
   "execution_count": 61,
   "metadata": {},
   "outputs": [],
   "source": [
    "from sklearn.neural_network import MLPClassifier\n",
    "from sklearn.model_selection import train_test_split\n",
    "from sklearn.metrics import accuracy_score\n",
    "from sklearn.metrics import confusion_matrix"
   ]
  },
  {
   "cell_type": "code",
   "execution_count": 65,
   "metadata": {},
   "outputs": [],
   "source": [
    "clf = MLPClassifier(hidden_layer_sizes=(100,100,100), max_iter=10000, alpha=0.0001,\n",
    "                     solver='sgd',  random_state=21,tol=0.00001)"
   ]
  },
  {
   "cell_type": "code",
   "execution_count": 66,
   "metadata": {},
   "outputs": [
    {
     "data": {
      "text/plain": [
       "0.9400430361530603"
      ]
     },
     "execution_count": 66,
     "metadata": {},
     "output_type": "execute_result"
    }
   ],
   "source": [
    "clf.fit(X_train, y_train)\n",
    "y_pred = clf.predict(X_test)\n",
    "balanced_accuracy_score(y_test, y_pred)"
   ]
  },
  {
   "cell_type": "code",
   "execution_count": null,
   "metadata": {},
   "outputs": [],
   "source": []
  },
  {
   "cell_type": "code",
   "execution_count": 67,
   "metadata": {},
   "outputs": [
    {
     "name": "stdout",
     "output_type": "stream",
     "text": [
      "              precision    recall  f1-score   support\n",
      "\n",
      "         1.0       0.98      0.97      0.98      2868\n",
      "         2.0       0.97      0.97      0.97       750\n",
      "         3.0       0.98      0.97      0.98      1762\n",
      "         4.0       0.97      0.91      0.94        32\n",
      "         5.0       1.00      0.94      0.97        17\n",
      "         7.0       1.00      1.00      1.00         9\n",
      "         8.0       0.98      1.00      0.99        43\n",
      "         9.0       0.90      0.94      0.92       463\n",
      "        10.0       0.91      0.93      0.92       661\n",
      "        11.0       0.96      0.94      0.95        52\n",
      "        15.0       0.92      0.79      0.85        14\n",
      "        19.0       1.00      1.00      1.00        17\n",
      "        23.0       0.92      0.87      0.90       289\n",
      "        24.0       0.87      0.93      0.90        74\n",
      "\n",
      "    accuracy                           0.96      7051\n",
      "   macro avg       0.95      0.94      0.95      7051\n",
      "weighted avg       0.96      0.96      0.96      7051\n",
      "\n"
     ]
    }
   ],
   "source": [
    "print(classification_report(y_test,clf.predict(X_test)))"
   ]
  },
  {
   "cell_type": "code",
   "execution_count": null,
   "metadata": {},
   "outputs": [],
   "source": []
  },
  {
   "cell_type": "code",
   "execution_count": 68,
   "metadata": {},
   "outputs": [
    {
     "data": {
      "image/png": "[encoded data removed]",
      "text/plain": [
       "<Figure size 600x400 with 2 Axes>"
      ]
     },
     "metadata": {
      "needs_background": "light"
     },
     "output_type": "display_data"
    }
   ],
   "source": [
    "# # Print confusion matrix for stacking\n",
    "stack_confusion = confusion_matrix(y_test, clf.predict(X_test))\n",
    "plt.figure(dpi=100)\n",
    "sns.heatmap(rf_confusion, cmap=plt.cm.Blues, annot=True, square=True, fmt='g')\n",
    "\n",
    "plt.xlabel('Predicted crop')\n",
    "plt.ylabel('Actual crop')\n",
    "plt.title('MLP confusion matrix');\n",
    "\n",
    "# plt.savefig(\"confusion_matrix_logit_iris\")"
   ]
  },
  {
   "cell_type": "markdown",
   "metadata": {},
   "source": [
    "### Stacking"
   ]
  },
  {
   "cell_type": "code",
   "execution_count": 75,
   "metadata": {},
   "outputs": [],
   "source": [
    "from sklearn.ensemble import ExtraTreesClassifier\n",
    "from sklearn.model_selection import RepeatedStratifiedKFold\n",
    "from sklearn.linear_model import LogisticRegression\n",
    "from sklearn.neighbors import KNeighborsClassifier\n",
    "from sklearn.tree import DecisionTreeClassifier\n",
    "from sklearn.svm import SVC\n",
    "from sklearn.ensemble import StackingClassifier\n",
    "from xgboost import XGBClassifier\n",
    "from sklearn.svm import LinearSVC\n",
    "#from mlxtend.classifier import StackingClassifier"
   ]
  },
  {
   "cell_type": "markdown",
   "metadata": {},
   "source": [
    "Una alternativa para enfrentar mejor el severo desbalance de clases es el stacking. En lugar de trabajar con clases, usaremos distintos modelos para estimar probabilidades de cada una de las clases y luego éstas probabilidades serán combinadas para obtener el resultado final. "
   ]
  },
  {
   "cell_type": "code",
   "execution_count": 76,
   "metadata": {},
   "outputs": [],
   "source": [
    "def get_models():\n",
    "    models = dict()\n",
    "    models['lr'] = make_pipeline_with_sampler(preprocessor_linear, RandomOverSampler(random_state=42), LogisticRegression(max_iter=1000))\n",
    "    models['knn'] = KNeighborsClassifier(n_jobs = 6)\n",
    "    models['cart'] = DecisionTreeClassifier()\n",
    "    models['ert'] = ExtraTreesClassifier()\n",
    "    models['svm'] = make_pipeline(StandardScaler(), LinearSVC(random_state=42))\n",
    "    models['rf'] = make_pipeline_with_sampler(preprocessor_tree, RandomOverSampler(random_state=42), RandomForestClassifier(random_state=42, n_jobs=2))\n",
    "    models['xgb'] = XGBClassifier(n_jobs = 6)\n",
    "    return models"
   ]
  },
  {
   "cell_type": "code",
   "execution_count": 77,
   "metadata": {},
   "outputs": [],
   "source": [
    "# evaluate a give model using cross-validation\n",
    "def evaluate_model(model, X, y):\n",
    "    cv = RepeatedStratifiedKFold(n_splits=5, n_repeats=3, random_state=1)\n",
    "    scores = cross_val_score(model, X, y, scoring='balanced_accuracy', cv=cv, n_jobs=-1, error_score='raise')\n",
    "    return scores"
   ]
  },
  {
   "cell_type": "code",
   "execution_count": 78,
   "metadata": {},
   "outputs": [],
   "source": [
    "from sklearn import preprocessing\n",
    "# encode string class values as integers\n",
    "label_encoder = preprocessing.LabelEncoder()\n",
    "label_encoder = label_encoder.fit(labels)\n",
    "label_encoded_y_train = label_encoder.transform(y_train)\n",
    "label_encoded_y_test = label_encoder.transform(y_test)"
   ]
  },
  {
   "cell_type": "code",
   "execution_count": 79,
   "metadata": {},
   "outputs": [
    {
     "name": "stdout",
     "output_type": "stream",
     "text": [
      ">lr 0.839 (0.011)\n",
      ">knn 0.904 (0.015)\n",
      ">cart 0.835 (0.025)\n",
      ">ert 0.932 (0.010)\n",
      ">svm 0.615 (0.017)\n",
      ">rf 0.920 (0.016)\n",
      ">xgb 0.919 (0.019)\n"
     ]
    },
    {
     "data": {
      "image/png": "[encoded data removed]",
      "text/plain": [
       "<Figure size 432x288 with 1 Axes>"
      ]
     },
     "metadata": {
      "needs_background": "light"
     },
     "output_type": "display_data"
    }
   ],
   "source": [
    "# get the models to evaluate\n",
    "models = get_models()\n",
    "# evaluate the models and store results\n",
    "results, names = list(), list()\n",
    "for name, model in models.items():\n",
    "    scores = evaluate_model(model, X_train, label_encoded_y_train)\n",
    "    results.append(scores)\n",
    "    names.append(name)\n",
    "    print('>%s %.3f (%.3f)' % (name, scores.mean(), scores.std()))\n",
    "# plot model performance for comparison\n",
    "plt.boxplot(results, labels=names, showmeans=True)\n",
    "plt.show()"
   ]
  },
  {
   "cell_type": "markdown",
   "metadata": {},
   "source": [
    "Se observa que las distintas alternativas arrojaron resultados bueno a excepción de SVM que tuvo una performance marcadamente inferior por lo que será excluida del stack. "
   ]
  },
  {
   "cell_type": "code",
   "execution_count": null,
   "metadata": {},
   "outputs": [],
   "source": []
  },
  {
   "cell_type": "code",
   "execution_count": 81,
   "metadata": {},
   "outputs": [],
   "source": [
    "# define the base models\n",
    "level0 = list()\n",
    "level0.append(('lr', make_pipeline_with_sampler(preprocessor_linear, RandomOverSampler(random_state=42), LogisticRegression(max_iter=1000))))\n",
    "level0.append(('knn', KNeighborsClassifier(n_jobs = 6)))\n",
    "level0.append(('cart', DecisionTreeClassifier()))\n",
    "#level0.append(('svm', SVC()))\n",
    "level0.append(('rf', make_pipeline_with_sampler(preprocessor_tree, RandomOverSampler(random_state=42), RandomForestClassifier(random_state=42, n_jobs=2))))\n",
    "level0.append(('etr', ExtraTreesClassifier(n_jobs = 6)))\n",
    "level0.append(('xgb', XGBClassifier(n_jobs = 6)))\n",
    "level0.append(('ml', MLPClassifier(hidden_layer_sizes=(100,100,100), max_iter=10000, alpha=0.0001,\n",
    "                     solver='sgd',  random_state=21,tol=0.00001)))"
   ]
  },
  {
   "cell_type": "code",
   "execution_count": null,
   "metadata": {},
   "outputs": [],
   "source": []
  },
  {
   "cell_type": "code",
   "execution_count": 82,
   "metadata": {},
   "outputs": [
    {
     "name": "stderr",
     "output_type": "stream",
     "text": [
      "/Users/alessiobocco/opt/anaconda3/lib/python3.8/site-packages/sklearn/linear_model/_logistic.py:762: ConvergenceWarning: lbfgs failed to converge (status=1):\n",
      "STOP: TOTAL NO. of ITERATIONS REACHED LIMIT.\n",
      "\n",
      "Increase the number of iterations (max_iter) or scale the data as shown in:\n",
      "    https://scikit-learn.org/stable/modules/preprocessing.html\n",
      "Please also refer to the documentation for alternative solver options:\n",
      "    https://scikit-learn.org/stable/modules/linear_model.html#logistic-regression\n",
      "  n_iter_i = _check_optimize_result(\n"
     ]
    },
    {
     "data": {
      "text/plain": [
       "StackingClassifier(cv=5,\n",
       "                   estimators=[('lr',\n",
       "                                Pipeline(steps=[('columntransformer',\n",
       "                                                 ColumnTransformer(n_jobs=2,\n",
       "                                                                   transformers=[('num-pipe',\n",
       "                                                                                  Pipeline(steps=[('standardscaler',\n",
       "                                                                                                   StandardScaler()),\n",
       "                                                                                                  ('simpleimputer',\n",
       "                                                                                                   SimpleImputer(add_indicator=True))]),\n",
       "                                                                                  <sklearn.compose._column_transformer.make_column_selector object at 0x7f7fe9958d90>),\n",
       "                                                                                 ('cat-pipe',\n",
       "                                                                                  Pipeline(steps=[('...\n",
       "                                              n_estimators=100, n_jobs=6,\n",
       "                                              num_parallel_tree=None,\n",
       "                                              random_state=None, reg_alpha=None,\n",
       "                                              reg_lambda=None,\n",
       "                                              scale_pos_weight=None,\n",
       "                                              subsample=None, tree_method=None,\n",
       "                                              validate_parameters=None,\n",
       "                                              verbosity=None)),\n",
       "                               ('ml',\n",
       "                                MLPClassifier(hidden_layer_sizes=(100, 100,\n",
       "                                                                  100),\n",
       "                                              max_iter=10000, random_state=21,\n",
       "                                              solver='sgd', tol=1e-05))],\n",
       "                   final_estimator=LogisticRegression(), n_jobs=-1)"
      ]
     },
     "execution_count": 82,
     "metadata": {},
     "output_type": "execute_result"
    }
   ],
   "source": [
    "# define meta learner model\n",
    "level1 = LogisticRegression()\n",
    "# define the stacking ensemble\n",
    "model = StackingClassifier(estimators=level0, final_estimator=level1, cv=5, n_jobs = -1) \n",
    "                           #compute_scores = True, verbose = 2, scoring = 'balanced_accuracy')\n",
    "# fit the model on all available data\n",
    "model.fit(X_train, label_encoded_y_train)"
   ]
  },
  {
   "cell_type": "code",
   "execution_count": 83,
   "metadata": {},
   "outputs": [
    {
     "name": "stdout",
     "output_type": "stream",
     "text": [
      "Stack 0.9748891760702703\n"
     ]
    }
   ],
   "source": [
    "clf_score_stack = balanced_accuracy_score(label_encoded_y_test, model.predict(X_test))\n",
    "\n",
    "print('Stack', clf_score_stack)"
   ]
  },
  {
   "cell_type": "code",
   "execution_count": 84,
   "metadata": {},
   "outputs": [
    {
     "name": "stdout",
     "output_type": "stream",
     "text": [
      "              precision    recall  f1-score   support\n",
      "\n",
      "           0       0.99      0.99      0.99      2868\n",
      "           1       0.99      0.98      0.98       750\n",
      "           2       0.99      0.99      0.99      1762\n",
      "           3       1.00      0.94      0.97        32\n",
      "           4       1.00      1.00      1.00        17\n",
      "           5       1.00      1.00      1.00         9\n",
      "           6       1.00      1.00      1.00        43\n",
      "           7       0.97      0.98      0.98       463\n",
      "           8       0.98      0.98      0.98       661\n",
      "           9       0.98      1.00      0.99        52\n",
      "          10       1.00      0.86      0.92        14\n",
      "          11       1.00      1.00      1.00        17\n",
      "          12       0.99      0.96      0.97       289\n",
      "          13       0.99      0.97      0.98        74\n",
      "\n",
      "    accuracy                           0.99      7051\n",
      "   macro avg       0.99      0.97      0.98      7051\n",
      "weighted avg       0.99      0.99      0.99      7051\n",
      "\n"
     ]
    }
   ],
   "source": [
    "print(classification_report(label_encoded_y_test,model.predict(X_test)))"
   ]
  },
  {
   "cell_type": "code",
   "execution_count": null,
   "metadata": {},
   "outputs": [],
   "source": []
  },
  {
   "cell_type": "code",
   "execution_count": 86,
   "metadata": {},
   "outputs": [
    {
     "data": {
      "image/png": "[encoded data removed]",
      "text/plain": [
       "<Figure size 600x400 with 2 Axes>"
      ]
     },
     "metadata": {
      "needs_background": "light"
     },
     "output_type": "display_data"
    }
   ],
   "source": [
    "# # Print confusion matrix for stacking\n",
    "stack_confusion = confusion_matrix(label_encoded_y_test, model.predict(X_test))\n",
    "plt.figure(dpi=100)\n",
    "sns.heatmap(rf_confusion, cmap=plt.cm.Blues, annot=True, square=True, fmt='g')\n",
    "\n",
    "plt.xlabel('Predicted crop')\n",
    "plt.ylabel('Actual crop')\n",
    "plt.title('Stack confusion matrix');\n",
    "\n",
    "# plt.savefig(\"confusion_matrix_logit_iris\")"
   ]
  },
  {
   "cell_type": "code",
   "execution_count": null,
   "metadata": {},
   "outputs": [],
   "source": []
  },
  {
   "cell_type": "code",
   "execution_count": 93,
   "metadata": {},
   "outputs": [
    {
     "data": {
      "text/html": [
       "<div>\n",
       "<style scoped>\n",
       "    .dataframe tbody tr th:only-of-type {\n",
       "        vertical-align: middle;\n",
       "    }\n",
       "\n",
       "    .dataframe tbody tr th {\n",
       "        vertical-align: top;\n",
       "    }\n",
       "\n",
       "    .dataframe thead th {\n",
       "        text-align: right;\n",
       "    }\n",
       "</style>\n",
       "<table border=\"1\" class=\"dataframe\">\n",
       "  <thead>\n",
       "    <tr style=\"text-align: right;\">\n",
       "      <th></th>\n",
       "      <th>GlobalId</th>\n",
       "      <th>CultivoId</th>\n",
       "    </tr>\n",
       "  </thead>\n",
       "  <tbody>\n",
       "    <tr>\n",
       "      <th>0</th>\n",
       "      <td>2</td>\n",
       "      <td>3</td>\n",
       "    </tr>\n",
       "    <tr>\n",
       "      <th>1</th>\n",
       "      <td>3</td>\n",
       "      <td>3</td>\n",
       "    </tr>\n",
       "    <tr>\n",
       "      <th>2</th>\n",
       "      <td>5</td>\n",
       "      <td>3</td>\n",
       "    </tr>\n",
       "    <tr>\n",
       "      <th>3</th>\n",
       "      <td>8</td>\n",
       "      <td>10</td>\n",
       "    </tr>\n",
       "    <tr>\n",
       "      <th>4</th>\n",
       "      <td>11</td>\n",
       "      <td>10</td>\n",
       "    </tr>\n",
       "  </tbody>\n",
       "</table>\n",
       "</div>"
      ],
      "text/plain": [
       "   GlobalId  CultivoId\n",
       "0         2          3\n",
       "1         3          3\n",
       "2         5          3\n",
       "3         8         10\n",
       "4        11         10"
      ]
     },
     "execution_count": 93,
     "metadata": {},
     "output_type": "execute_result"
    }
   ],
   "source": [
    "y_test_pred = model.predict(test)\n",
    "y_test_pred = label_encoder.inverse_transform(y_test_pred)\n",
    "y_test_pred = y_test_pred.astype(int)\n",
    "submit = original_df[original_df.train == False]\n",
    "submission = pd.DataFrame(list(zip(submit.GlobalId, y_test_pred)), columns=[\"GlobalId\", \"CultivoId\"])\n",
    "submission.head()"
   ]
  },
  {
   "cell_type": "code",
   "execution_count": null,
   "metadata": {},
   "outputs": [],
   "source": []
  },
  {
   "cell_type": "code",
   "execution_count": 94,
   "metadata": {},
   "outputs": [
    {
     "data": {
      "text/plain": [
       "array([ 1,  2,  3,  4,  8,  9, 10, 23, 24])"
      ]
     },
     "execution_count": 94,
     "metadata": {},
     "output_type": "execute_result"
    }
   ],
   "source": [
    "np.unique(y_test_pred)"
   ]
  },
  {
   "cell_type": "code",
   "execution_count": 95,
   "metadata": {},
   "outputs": [],
   "source": [
    "submission.to_csv(\"../prueba.csv\", header=False, index=False)"
   ]
  },
  {
   "cell_type": "code",
   "execution_count": 239,
   "metadata": {},
   "outputs": [],
   "source": []
  },
  {
   "cell_type": "code",
   "execution_count": null,
   "metadata": {},
   "outputs": [],
   "source": []
  }
 ],
 "metadata": {
  "kernelspec": {
   "display_name": "Python 3",
   "language": "python",
   "name": "python3"
  },
  "language_info": {
   "codemirror_mode": {
    "name": "ipython",
    "version": 3
   },
   "file_extension": ".py",
   "mimetype": "text/x-python",
   "name": "python",
   "nbconvert_exporter": "python",
   "pygments_lexer": "ipython3",
   "version": "3.8.3"
  }
 },
 "nbformat": 4,
 "nbformat_minor": 4
}
